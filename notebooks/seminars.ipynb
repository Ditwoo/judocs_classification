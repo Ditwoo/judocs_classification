{
 "cells": [
  {
   "cell_type": "markdown",
   "metadata": {},
   "source": [
    "Потрібно розпарсити файл\n",
    "\n",
    "```\n",
    "<title> ... </title>\n",
    "\n",
    "<paragraph> ... </paragraph>\n",
    "\n",
    "<section> ... </section>\n",
    "\n",
    "<list> ... </list>\n",
    "\n",
    "<sentance> ... </sentance>\n",
    "```\n",
    "\n",
    "# Міри\n",
    "\n",
    "__TFIDF__ міра:\n",
    "\n",
    "$$TF = log{v_{w_{T_i}}},\\, IDF = \\frac{log{N}}{n_{w_T}}$$\n",
    "\n",
    "тоді її рахують як добуток $TF$ та $IDF$.\n",
    "\n",
    "де $N$ - кількість текстів\n",
    "\n",
    "\n"
   ]
  },
  {
   "cell_type": "code",
   "execution_count": null,
   "metadata": {
    "collapsed": true
   },
   "outputs": [],
   "source": []
  }
 ],
 "metadata": {
  "kernelspec": {
   "display_name": "Python 3",
   "language": "python",
   "name": "python3"
  },
  "language_info": {
   "codemirror_mode": {
    "name": "ipython",
    "version": 3
   },
   "file_extension": ".py",
   "mimetype": "text/x-python",
   "name": "python",
   "nbconvert_exporter": "python",
   "pygments_lexer": "ipython3",
   "version": "3.6.2"
  }
 },
 "nbformat": 4,
 "nbformat_minor": 2
}
