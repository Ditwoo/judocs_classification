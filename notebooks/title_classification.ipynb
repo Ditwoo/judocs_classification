{
 "cells": [
  {
   "cell_type": "code",
   "execution_count": 1,
   "metadata": {
    "collapsed": true
   },
   "outputs": [],
   "source": [
    "import json\n",
    "import pandas as ps"
   ]
  },
  {
   "cell_type": "markdown",
   "metadata": {},
   "source": [
    "# Reading data"
   ]
  },
  {
   "cell_type": "code",
   "execution_count": 2,
   "metadata": {},
   "outputs": [],
   "source": [
    "with open('../data/new_headers.json', 'r') as in_file:\n",
    "    json_data = json.load(in_file)\n",
    "    \n",
    "def print_diction(some_dict: dict):\n",
    "    print(json.dumps(some_dict, indent=4, sort_keys=True))\n",
    "\n",
    "# print_diction(json_data)"
   ]
  },
  {
   "cell_type": "code",
   "execution_count": 3,
   "metadata": {},
   "outputs": [],
   "source": [
    "titles = dict()\n",
    "headers = dict()\n",
    "sub_headers = dict()\n",
    "\n",
    "def add_tolist_onto_dict(some_dictionary: dict, key, value):\n",
    "    if key in some_dictionary:\n",
    "        some_dictionary[key].append(value)\n",
    "    else:\n",
    "        some_dictionary[key] = [value]\n",
    "\n",
    "for filename, file_data in json_data['files'].items():\n",
    "    add_tolist_onto_dict(titles, filename, file_data['title'])\n",
    "    for item in file_data['headers']:\n",
    "        flag, data = item\n",
    "        if flag == 'he':\n",
    "            add_tolist_onto_dict(headers, filename, data)\n",
    "        elif flag == 'sub-he':\n",
    "            add_tolist_onto_dict(sub_headers, filename, data)\n",
    "\n",
    "# print_diction(titles)\n",
    "# print_diction(headers)\n",
    "# print_diction(sub_headers)"
   ]
  },
  {
   "cell_type": "code",
   "execution_count": 8,
   "metadata": {},
   "outputs": [
    {
     "data": {
      "text/html": [
       "<div>\n",
       "<style>\n",
       "    .dataframe thead tr:only-child th {\n",
       "        text-align: right;\n",
       "    }\n",
       "\n",
       "    .dataframe thead th {\n",
       "        text-align: left;\n",
       "    }\n",
       "\n",
       "    .dataframe tbody tr th {\n",
       "        vertical-align: top;\n",
       "    }\n",
       "</style>\n",
       "<table border=\"1\" class=\"dataframe\">\n",
       "  <thead>\n",
       "    <tr style=\"text-align: right;\">\n",
       "      <th></th>\n",
       "      <th>Flag</th>\n",
       "      <th>Text</th>\n",
       "    </tr>\n",
       "  </thead>\n",
       "  <tbody>\n",
       "    <tr>\n",
       "      <th>0</th>\n",
       "      <td>0</td>\n",
       "      <td>AMENDED AND RESTATED\\nBYLAWS OF\\nIMPERIAL CAPI...</td>\n",
       "    </tr>\n",
       "    <tr>\n",
       "      <th>1</th>\n",
       "      <td>0</td>\n",
       "      <td>CHANGE IN CONTROL AGREEMENT</td>\n",
       "    </tr>\n",
       "    <tr>\n",
       "      <th>2</th>\n",
       "      <td>0</td>\n",
       "      <td>PRESCRIPTION DRUG DISCOUNT CARD AGREEMENT</td>\n",
       "    </tr>\n",
       "    <tr>\n",
       "      <th>3</th>\n",
       "      <td>0</td>\n",
       "      <td>VOTING AGREEMENT</td>\n",
       "    </tr>\n",
       "    <tr>\n",
       "      <th>4</th>\n",
       "      <td>0</td>\n",
       "      <td>SECURED CONVERTIBLE REDEEMABLE DEBENTURE</td>\n",
       "    </tr>\n",
       "    <tr>\n",
       "      <th>5</th>\n",
       "      <td>0</td>\n",
       "      <td>FORM OF INDEMNIFICATION AGREEMENT</td>\n",
       "    </tr>\n",
       "    <tr>\n",
       "      <th>6</th>\n",
       "      <td>0</td>\n",
       "      <td>Re: Offer of Employment with TranS1 Inc.</td>\n",
       "    </tr>\n",
       "    <tr>\n",
       "      <th>7</th>\n",
       "      <td>0</td>\n",
       "      <td>MANAGEMENT SUBSCRIPTION AND STOCK PURCHASE AGR...</td>\n",
       "    </tr>\n",
       "    <tr>\n",
       "      <th>8</th>\n",
       "      <td>0</td>\n",
       "      <td>RESTRICTED SHARE UNITS AWARD AGREEMENT</td>\n",
       "    </tr>\n",
       "    <tr>\n",
       "      <th>9</th>\n",
       "      <td>1</td>\n",
       "      <td>ARTICLE I\\nOFFICES</td>\n",
       "    </tr>\n",
       "    <tr>\n",
       "      <th>10</th>\n",
       "      <td>1</td>\n",
       "      <td>ARTICLE II\\nMEETINGS OF STOCKHOLDERS</td>\n",
       "    </tr>\n",
       "    <tr>\n",
       "      <th>11</th>\n",
       "      <td>1</td>\n",
       "      <td>ARTICLE III\\nDIRECTORS</td>\n",
       "    </tr>\n",
       "    <tr>\n",
       "      <th>12</th>\n",
       "      <td>1</td>\n",
       "      <td>ARTICLE IV\\nCOMMITTEES</td>\n",
       "    </tr>\n",
       "    <tr>\n",
       "      <th>13</th>\n",
       "      <td>1</td>\n",
       "      <td>ARTICLE V\\nOFFICERS</td>\n",
       "    </tr>\n",
       "    <tr>\n",
       "      <th>14</th>\n",
       "      <td>1</td>\n",
       "      <td>ARTICLE VI\\nINDEMNIFICATION</td>\n",
       "    </tr>\n",
       "  </tbody>\n",
       "</table>\n",
       "</div>"
      ],
      "text/plain": [
       "    Flag                                               Text\n",
       "0      0  AMENDED AND RESTATED\\nBYLAWS OF\\nIMPERIAL CAPI...\n",
       "1      0                        CHANGE IN CONTROL AGREEMENT\n",
       "2      0          PRESCRIPTION DRUG DISCOUNT CARD AGREEMENT\n",
       "3      0                                   VOTING AGREEMENT\n",
       "4      0           SECURED CONVERTIBLE REDEEMABLE DEBENTURE\n",
       "5      0                  FORM OF INDEMNIFICATION AGREEMENT\n",
       "6      0           Re: Offer of Employment with TranS1 Inc.\n",
       "7      0  MANAGEMENT SUBSCRIPTION AND STOCK PURCHASE AGR...\n",
       "8      0             RESTRICTED SHARE UNITS AWARD AGREEMENT\n",
       "9      1                                 ARTICLE I\\nOFFICES\n",
       "10     1               ARTICLE II\\nMEETINGS OF STOCKHOLDERS\n",
       "11     1                             ARTICLE III\\nDIRECTORS\n",
       "12     1                             ARTICLE IV\\nCOMMITTEES\n",
       "13     1                                ARTICLE V\\nOFFICERS\n",
       "14     1                        ARTICLE VI\\nINDEMNIFICATION"
      ]
     },
     "execution_count": 8,
     "metadata": {},
     "output_type": "execute_result"
    }
   ],
   "source": [
    "X, y = [], []\n",
    "\n",
    "def add_to_x_y(d: dict, flag: int):\n",
    "    for _, lst in d.items():\n",
    "        for item in lst:\n",
    "            X.append(item)\n",
    "            y.append(flag)\n",
    "    \n",
    "add_to_x_y(titles, 0)\n",
    "add_to_x_y(headers, 1)\n",
    "add_to_x_y(sub_headers, 2)\n",
    "        \n",
    "data = ps.DataFrame({'Text': X, 'Flag': y})\n",
    "data.head(15)"
   ]
  },
  {
   "cell_type": "code",
   "execution_count": 5,
   "metadata": {},
   "outputs": [
    {
     "data": {
      "text/html": [
       "<div>\n",
       "<style>\n",
       "    .dataframe thead tr:only-child th {\n",
       "        text-align: right;\n",
       "    }\n",
       "\n",
       "    .dataframe thead th {\n",
       "        text-align: left;\n",
       "    }\n",
       "\n",
       "    .dataframe tbody tr th {\n",
       "        vertical-align: top;\n",
       "    }\n",
       "</style>\n",
       "<table border=\"1\" class=\"dataframe\">\n",
       "  <thead>\n",
       "    <tr style=\"text-align: right;\">\n",
       "      <th></th>\n",
       "      <th>Flag</th>\n",
       "      <th>Text</th>\n",
       "    </tr>\n",
       "  </thead>\n",
       "  <tbody>\n",
       "    <tr>\n",
       "      <th>0</th>\n",
       "      <td>0</td>\n",
       "      <td>amended and restated bylaws of imperial capita...</td>\n",
       "    </tr>\n",
       "    <tr>\n",
       "      <th>1</th>\n",
       "      <td>0</td>\n",
       "      <td>change in control agreement</td>\n",
       "    </tr>\n",
       "    <tr>\n",
       "      <th>2</th>\n",
       "      <td>0</td>\n",
       "      <td>prescription drug discount card agreement</td>\n",
       "    </tr>\n",
       "    <tr>\n",
       "      <th>3</th>\n",
       "      <td>0</td>\n",
       "      <td>voting agreement</td>\n",
       "    </tr>\n",
       "    <tr>\n",
       "      <th>4</th>\n",
       "      <td>0</td>\n",
       "      <td>secured convertible redeemable debenture</td>\n",
       "    </tr>\n",
       "  </tbody>\n",
       "</table>\n",
       "</div>"
      ],
      "text/plain": [
       "   Flag                                               Text\n",
       "0     0  amended and restated bylaws of imperial capita...\n",
       "1     0                        change in control agreement\n",
       "2     0          prescription drug discount card agreement\n",
       "3     0                                   voting agreement\n",
       "4     0           secured convertible redeemable debenture"
      ]
     },
     "execution_count": 5,
     "metadata": {},
     "output_type": "execute_result"
    }
   ],
   "source": [
    "data.Text = data.Text.apply(lambda x: x.lower())\n",
    "data.Text = data.Text.apply(lambda x: x.replace('\\n', ' '))\n",
    "\n",
    "data.head(5)"
   ]
  },
  {
   "cell_type": "markdown",
   "metadata": {},
   "source": [
    "# Model"
   ]
  },
  {
   "cell_type": "code",
   "execution_count": 10,
   "metadata": {
    "collapsed": true
   },
   "outputs": [],
   "source": [
    "from sklearn.model_selection import train_test_split\n",
    "from sklearn.feature_extraction.text import CountVectorizer\n",
    "from sklearn.feature_extraction.text import TfidfTransformer\n",
    "from sklearn.naive_bayes import MultinomialNB\n",
    "from sklearn.linear_model import SGDClassifier\n",
    "from sklearn.pipeline import Pipeline\n",
    "\n",
    "X_train, X_test, y_train, y_test = train_test_split(data.Text, data.Flag,\n",
    "                                                    test_size=0.3, random_state=11)"
   ]
  },
  {
   "cell_type": "markdown",
   "metadata": {},
   "source": [
    "## Naive Bayes"
   ]
  },
  {
   "cell_type": "code",
   "execution_count": 11,
   "metadata": {},
   "outputs": [
    {
     "data": {
      "text/plain": [
       "0.82524271844660191"
      ]
     },
     "execution_count": 11,
     "metadata": {},
     "output_type": "execute_result"
    }
   ],
   "source": [
    "mnb_text_clf = Pipeline([('vect', CountVectorizer()),\n",
    "                         ('tfidf', TfidfTransformer()),\n",
    "                         ('mnb-clf', MultinomialNB())])\n",
    "\n",
    "mnb_text_clf = text_clf.fit(X_train, y_train)\n",
    "mnb_text_clf.score(X_test, y_test)"
   ]
  },
  {
   "cell_type": "code",
   "execution_count": 14,
   "metadata": {},
   "outputs": [
    {
     "name": "stderr",
     "output_type": "stream",
     "text": [
      "/Users/Ditwoo/anaconda/lib/python3.6/site-packages/sklearn/linear_model/stochastic_gradient.py:84: FutureWarning: max_iter and tol parameters have been added in <class 'sklearn.linear_model.stochastic_gradient.SGDClassifier'> in 0.19. If both are left unset, they default to max_iter=5 and tol=None. If tol is not None, max_iter defaults to max_iter=1000. From 0.21, default max_iter will be 1000, and default tol will be 1e-3.\n",
      "  \"and default tol will be 1e-3.\" % type(self), FutureWarning)\n"
     ]
    },
    {
     "data": {
      "text/plain": [
       "0.82524271844660191"
      ]
     },
     "execution_count": 14,
     "metadata": {},
     "output_type": "execute_result"
    }
   ],
   "source": [
    "sgd_text_clf = Pipeline([('vect', CountVectorizer()),\n",
    "                         ('tfidf', TfidfTransformer()),\n",
    "                         ('sgd-clf', SGDClassifier(loss='hinge', \n",
    "                                                   penalty='l2',\n",
    "                                                   alpha=1e-3, \n",
    "                                                   random_state=13))])\n",
    "\n",
    "sgd_text_clf = text_clf.fit(X_train, y_train)\n",
    "sgd_text_clf.score(X_test, y_test)"
   ]
  },
  {
   "cell_type": "code",
   "execution_count": null,
   "metadata": {
    "collapsed": true
   },
   "outputs": [],
   "source": []
  }
 ],
 "metadata": {
  "kernelspec": {
   "display_name": "Python 3",
   "language": "python",
   "name": "python3"
  },
  "language_info": {
   "codemirror_mode": {
    "name": "ipython",
    "version": 3
   },
   "file_extension": ".py",
   "mimetype": "text/x-python",
   "name": "python",
   "nbconvert_exporter": "python",
   "pygments_lexer": "ipython3",
   "version": "3.6.2"
  }
 },
 "nbformat": 4,
 "nbformat_minor": 2
}
